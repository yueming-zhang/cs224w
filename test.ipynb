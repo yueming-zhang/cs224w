{
 "cells": [
  {
   "cell_type": "code",
   "execution_count": 9,
   "metadata": {},
   "outputs": [
    {
     "name": "stdout",
     "output_type": "stream",
     "text": [
      "[[0 0 0]\n",
      " [1 0 0]\n",
      " [0 1 0]]\n",
      "[[0.         0.         0.        ]\n",
      " [0.33333333 0.         0.        ]\n",
      " [0.         0.33333333 0.        ]]\n"
     ]
    }
   ],
   "source": [
    "import numpy as np\n",
    "\n",
    "M = np.array([[0, 0, 0], [1, 0, 0], [0, 1, 0]])\n",
    "\n",
    "D = np.array([3,3,3])\n",
    "\n",
    "R = (1/np.sqrt(D)) * M * (1/np.sqrt(D))\n",
    "\n",
    "print (M)\n",
    "print (R)"
   ]
  }
 ],
 "metadata": {
  "kernelspec": {
   "display_name": ".venv",
   "language": "python",
   "name": "python3"
  },
  "language_info": {
   "codemirror_mode": {
    "name": "ipython",
    "version": 3
   },
   "file_extension": ".py",
   "mimetype": "text/x-python",
   "name": "python",
   "nbconvert_exporter": "python",
   "pygments_lexer": "ipython3",
   "version": "3.8.10"
  },
  "orig_nbformat": 4,
  "vscode": {
   "interpreter": {
    "hash": "a247234d3fc5c9ff6a63138b98e3e3b852fda0e5936d0ab644270268638ffa1d"
   }
  }
 },
 "nbformat": 4,
 "nbformat_minor": 2
}
