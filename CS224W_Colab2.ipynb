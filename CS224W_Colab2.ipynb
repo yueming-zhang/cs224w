{
  "cells": [
    {
      "cell_type": "markdown",
      "metadata": {
        "id": "XuXWJLEm2UWS"
      },
      "source": [
        "# **CS224W - Colab 2**"
      ]
    },
    {
      "cell_type": "markdown",
      "metadata": {
        "id": "8gzsP50bF6Gb"
      },
      "source": [
        "In Colab 2, we will work to construct our own graph neural network using PyTorch Geometric (PyG) and then apply that model on two Open Graph Benchmark (OGB) datasets. These two datasets will be used to benchmark your model's performance on two different graph-based tasks: 1) node property prediction, predicting properties of single nodes and 2) graph property prediction, predicting properties of entire graphs or subgraphs.\n",
        "\n",
        "First, we will learn how PyTorch Geometric stores graphs as PyTorch tensors.\n",
        "\n",
        "Then, we will load and inspect one of the Open Graph Benchmark (OGB) datasets by using the `ogb` package. OGB is a collection of realistic, large-scale, and diverse benchmark datasets for machine learning on graphs. The `ogb` package not only provides data loaders for each dataset but also model evaluators.\n",
        "\n",
        "Lastly, we will build our own graph neural network using PyTorch Geometric. We will then train and evaluate our model on the OGB node property prediction and graph property prediction tasks.\n",
        "\n",
        "**Note**: Make sure to **sequentially run all the cells in each section**, so that the intermediate variables / packages will carry over to the next cell\n",
        "\n",
        "We recommend you save a copy of this colab in your drive so you don't lose progress!\n",
        "\n",
        "Have fun and good luck on Colab 2 :)"
      ]
    },
    {
      "cell_type": "markdown",
      "metadata": {
        "id": "ZGKqVEbbMEzf"
      },
      "source": [
        "# Device\n",
        "You might need to use a GPU for this Colab to run quickly.\n",
        "\n",
        "Please click `Runtime` and then `Change runtime type`. Then set the `hardware accelerator` to **GPU**."
      ]
    },
    {
      "cell_type": "markdown",
      "metadata": {
        "id": "OCK7krJdp4o8"
      },
      "source": [
        "# Setup\n",
        "As discussed in Colab 0, the installation of PyG on Colab can be a little bit tricky. First let us check which version of PyTorch you are running"
      ]
    },
    {
      "cell_type": "code",
      "execution_count": 1,
      "metadata": {
        "id": "2vkP8pA1qBE5"
      },
      "outputs": [
        {
          "name": "stdout",
          "output_type": "stream",
          "text": [
            "PyTorch has version 1.13.1+cu117\n"
          ]
        }
      ],
      "source": [
        "import torch\n",
        "import os\n",
        "print(\"PyTorch has version {}\".format(torch.__version__))"
      ]
    },
    {
      "cell_type": "markdown",
      "metadata": {
        "id": "L6d22O6DqGSZ"
      },
      "source": [
        "Download the necessary packages for PyG. Make sure that your version of torch matches the output from the cell above. In case of any issues, more information can be found on the [PyG's installation page](https://pytorch-geometric.readthedocs.io/en/latest/notes/installation.html)."
      ]
    },
    {
      "cell_type": "code",
      "execution_count": 2,
      "metadata": {
        "id": "zr8hfxJ-qRg2"
      },
      "outputs": [],
      "source": [
        "# # Install torch geometric\n",
        "# if 'IS_GRADESCOPE_ENV' not in os.environ:\n",
        "#   !pip install torch-scatter -f https://pytorch-geometric.com/whl/torch-1.13.1+cu116.html\n",
        "#   !pip install torch-sparse -f https://pytorch-geometric.com/whl/torch-1.13.1+cu116.html\n",
        "#   !pip install torch-geometric\n",
        "#   !pip install ogb"
      ]
    },
    {
      "cell_type": "markdown",
      "metadata": {
        "id": "Nwwq0nSdmsOL"
      },
      "source": [
        "# 1) PyTorch Geometric (Datasets and Data)\n"
      ]
    },
    {
      "cell_type": "markdown",
      "metadata": {
        "id": "Sf7vUmdNKCjA"
      },
      "source": [
        "PyTorch Geometric has two classes for storing and/or transforming graphs into tensor format. One is `torch_geometric.datasets`, which contains a variety of common graph datasets. Another is `torch_geometric.data`, which provides the data handling of graphs in PyTorch tensors.\n",
        "\n",
        "In this section, we will learn how to use `torch_geometric.datasets` and `torch_geometric.data` together."
      ]
    },
    {
      "cell_type": "markdown",
      "metadata": {
        "id": "ic-o1P3r6hr2"
      },
      "source": [
        "## PyG Datasets\n",
        "\n",
        "The `torch_geometric.datasets` class has many common graph datasets. Here we will explore its usage through one example dataset."
      ]
    },
    {
      "cell_type": "code",
      "execution_count": 3,
      "metadata": {
        "id": "zT5qca3x6XpG"
      },
      "outputs": [
        {
          "name": "stdout",
          "output_type": "stream",
          "text": [
            "ENZYMES(600)\n"
          ]
        }
      ],
      "source": [
        "from torch_geometric.datasets import TUDataset\n",
        "\n",
        "if 'IS_GRADESCOPE_ENV' not in os.environ:\n",
        "  root = './enzymes'\n",
        "  name = 'ENZYMES'\n",
        "\n",
        "  # The ENZYMES dataset\n",
        "  pyg_dataset= TUDataset(root, name)\n",
        "\n",
        "  # You will find that there are 600 graphs in this dataset\n",
        "  print(pyg_dataset)"
      ]
    },
    {
      "cell_type": "markdown",
      "metadata": {
        "id": "NLm5vVYMAP2x"
      },
      "source": [
        "## Question 1: What is the number of classes and number of features in the ENZYMES dataset? (5 points)"
      ]
    },
    {
      "cell_type": "code",
      "execution_count": 4,
      "metadata": {
        "id": "8iF_Kyqr_JbY"
      },
      "outputs": [
        {
          "name": "stdout",
          "output_type": "stream",
          "text": [
            "ENZYMES dataset has 6 classes\n",
            "ENZYMES dataset has 3 features\n"
          ]
        }
      ],
      "source": [
        "def get_num_classes(pyg_dataset):\n",
        "  # TODO: Implement a function that takes a PyG dataset object\n",
        "  # and returns the number of classes for that dataset.\n",
        "\n",
        "  num_classes = 0\n",
        "\n",
        "  ############# Your code here ############\n",
        "  ## (~1 line of code)\n",
        "  ## Note\n",
        "  ## 1. Colab autocomplete functionality might be useful.\n",
        "  num_classes = pyg_dataset.num_classes\n",
        "  #########################################\n",
        "\n",
        "  return num_classes\n",
        "\n",
        "def get_num_features(pyg_dataset):\n",
        "  # TODO: Implement a function that takes a PyG dataset object\n",
        "  # and returns the number of features for that dataset.\n",
        "\n",
        "  num_features = 0\n",
        "\n",
        "  ############# Your code here ############\n",
        "  ## (~1 line of code)\n",
        "  ## Note\n",
        "  ## 1. Colab autocomplete functionality might be useful.\n",
        "  num_features = pyg_dataset.num_features\n",
        "  #########################################\n",
        "\n",
        "  return num_features\n",
        "\n",
        "if 'IS_GRADESCOPE_ENV' not in os.environ:\n",
        "  num_classes = get_num_classes(pyg_dataset)\n",
        "  num_features = get_num_features(pyg_dataset)\n",
        "  print(\"{} dataset has {} classes\".format(name, num_classes))\n",
        "  print(\"{} dataset has {} features\".format(name, num_features))"
      ]
    },
    {
      "cell_type": "markdown",
      "metadata": {
        "id": "rwKbzhHUAckZ"
      },
      "source": [
        "## PyG Data\n",
        "\n",
        "Each PyG dataset stores a list of `torch_geometric.data.Data` objects, where each `torch_geometric.data.Data` object represents a graph. We can easily get the `Data` object by indexing into the dataset.\n",
        "\n",
        "For more information such as what is stored in the `Data` object, please refer to the [documentation](https://pytorch-geometric.readthedocs.io/en/latest/modules/data.html#torch_geometric.data.Data)."
      ]
    },
    {
      "cell_type": "markdown",
      "metadata": {
        "id": "7sCV3xJWCddX"
      },
      "source": [
        "## Question 2: What is the label of the graph with index 100 in the ENZYMES dataset? (5 points)"
      ]
    },
    {
      "cell_type": "code",
      "execution_count": 5,
      "metadata": {
        "id": "LIis9oTZAfs3"
      },
      "outputs": [
        {
          "name": "stdout",
          "output_type": "stream",
          "text": [
            "Data(edge_index=[2, 168], x=[37, 3], y=[1])\n",
            "Graph with index 100 has label tensor([4])\n"
          ]
        }
      ],
      "source": [
        "def get_graph_class(pyg_dataset, idx):\n",
        "  # TODO: Implement a function that takes a PyG dataset object,\n",
        "  # an index of a graph within the dataset, and returns the class/label \n",
        "  # of the graph (as an integer).\n",
        "\n",
        "  label = -1\n",
        "\n",
        "  ############# Your code here ############\n",
        "  ## (~1 line of code)\n",
        "  label = pyg_dataset[idx].y\n",
        "  #########################################\n",
        "\n",
        "  return label\n",
        "\n",
        "# Here pyg_dataset is a dataset for graph classification\n",
        "if 'IS_GRADESCOPE_ENV' not in os.environ:\n",
        "  graph_0 = pyg_dataset[0]\n",
        "  print(graph_0)\n",
        "  idx = 100\n",
        "  label = get_graph_class(pyg_dataset, idx)\n",
        "  print('Graph with index {} has label {}'.format(idx, label))"
      ]
    },
    {
      "cell_type": "markdown",
      "metadata": {
        "id": "fKhcVeAhCwoY"
      },
      "source": [
        "## Question 3: How many edges does the graph with index 200 have? (5 points)"
      ]
    },
    {
      "cell_type": "code",
      "execution_count": 6,
      "metadata": {
        "id": "f5m2DOfhBtWv"
      },
      "outputs": [
        {
          "name": "stdout",
          "output_type": "stream",
          "text": [
            "Graph with index 200 has 53 edges\n"
          ]
        }
      ],
      "source": [
        "def get_graph_num_edges(pyg_dataset, idx):\n",
        "  # TODO: Implement a function that takes a PyG dataset object,\n",
        "  # the index of a graph in the dataset, and returns the number of \n",
        "  # edges in the graph (as an integer). You should not count an edge \n",
        "  # twice if the graph is undirected. For example, in an undirected \n",
        "  # graph G, if two nodes v and u are connected by an edge, this edge\n",
        "  # should only be counted once.\n",
        "\n",
        "  num_edges = 0\n",
        "\n",
        "  ############# Your code here ############\n",
        "  ## Note:\n",
        "  ## 1. You can't return the data.num_edges directly\n",
        "  ## 2. We assume the graph is undirected\n",
        "  ## 3. Look at the PyG dataset built in functions\n",
        "  ## (~4 lines of code)\n",
        "  if pyg_dataset[idx].is_directed():\n",
        "    num_edges = pyg_dataset[idx].num_edges \n",
        "  else:\n",
        "    num_edges = pyg_dataset[idx].num_edges // 2\n",
        "  #########################################\n",
        "\n",
        "  return num_edges\n",
        "\n",
        "if 'IS_GRADESCOPE_ENV' not in os.environ:\n",
        "  idx = 200\n",
        "  num_edges = get_graph_num_edges(pyg_dataset, idx)\n",
        "  print('Graph with index {} has {} edges'.format(idx, num_edges))"
      ]
    },
    {
      "cell_type": "markdown",
      "metadata": {
        "id": "AXa7yIG4E0Fp"
      },
      "source": [
        "# 2) Open Graph Benchmark (OGB)\n",
        "\n",
        "The Open Graph Benchmark (OGB) is a collection of realistic, large-scale, and diverse benchmark datasets for machine learning on graphs. Its datasets are automatically downloaded, processed, and split using the OGB Data Loader. The model performance can then be evaluated by using the OGB Evaluator in a unified manner."
      ]
    },
    {
      "cell_type": "markdown",
      "metadata": {
        "id": "HnazPGGAJAZN"
      },
      "source": [
        "## Dataset and Data\n",
        "\n",
        "OGB also supports PyG dataset and data classes. Here we take a look on the `ogbn-arxiv` dataset."
      ]
    },
    {
      "cell_type": "code",
      "execution_count": 7,
      "metadata": {
        "id": "Gpc6bTm3GF02"
      },
      "outputs": [
        {
          "name": "stdout",
          "output_type": "stream",
          "text": [
            "The ogbn-arxiv dataset has 1 graph\n",
            "Data(num_nodes=169343, x=[169343, 128], node_year=[169343, 1], y=[169343, 1], adj_t=[169343, 169343, nnz=1166243])\n"
          ]
        }
      ],
      "source": [
        "import torch_geometric.transforms as T\n",
        "from ogb.nodeproppred import PygNodePropPredDataset\n",
        "\n",
        "if 'IS_GRADESCOPE_ENV' not in os.environ:\n",
        "  dataset_name = 'ogbn-arxiv'\n",
        "  # Load the dataset and transform it to sparse tensor\n",
        "  dataset = PygNodePropPredDataset(name=dataset_name,\n",
        "                                  transform=T.ToSparseTensor())\n",
        "  print('The {} dataset has {} graph'.format(dataset_name, len(dataset)))\n",
        "\n",
        "  # Extract the graph\n",
        "  data = dataset[0]\n",
        "  print(data)"
      ]
    },
    {
      "cell_type": "markdown",
      "metadata": {
        "id": "Cw0xZJKZI-n3"
      },
      "source": [
        "## Question 4: How many features are in the ogbn-arxiv graph? (5 points)"
      ]
    },
    {
      "cell_type": "code",
      "execution_count": 8,
      "metadata": {
        "id": "ZP844_nT2ZJl"
      },
      "outputs": [
        {
          "name": "stdout",
          "output_type": "stream",
          "text": [
            "The graph has 128 features\n"
          ]
        }
      ],
      "source": [
        "def graph_num_features(data):\n",
        "  # TODO: Implement a function that takes a PyG data object,\n",
        "  # and returns the number of features in the graph (as an integer).\n",
        "\n",
        "  num_features = 0\n",
        "\n",
        "  ############# Your code here ############\n",
        "  ## (~1 line of code)\n",
        "  num_features = data.num_features\n",
        "  #########################################\n",
        "\n",
        "  return num_features\n",
        "\n",
        "if 'IS_GRADESCOPE_ENV' not in os.environ:\n",
        "  num_features = graph_num_features(data)\n",
        "  print('The graph has {} features'.format(num_features))"
      ]
    },
    {
      "cell_type": "markdown",
      "metadata": {
        "id": "9DP_yEQZ0NVW"
      },
      "source": [
        "# 3) GNN: Node Property Prediction\n",
        "\n",
        "In this section we will build our first graph neural network using PyTorch Geometric. Then we will apply it to the task of node property prediction (node classification).\n",
        "\n",
        "Specifically, we will use GCN as the foundation for your graph neural network ([Kipf et al. (2017)](https://arxiv.org/pdf/1609.02907.pdf)). To do so, we will work with PyG's built-in `GCNConv` layer. "
      ]
    },
    {
      "cell_type": "markdown",
      "metadata": {
        "id": "O4CcOUEoInjD"
      },
      "source": [
        "## Setup"
      ]
    },
    {
      "cell_type": "code",
      "execution_count": 9,
      "metadata": {
        "id": "-DCtgcHpGIpd"
      },
      "outputs": [
        {
          "name": "stdout",
          "output_type": "stream",
          "text": [
            "1.13.1+cu117\n"
          ]
        }
      ],
      "source": [
        "import torch\n",
        "import pandas as pd\n",
        "import torch.nn.functional as F\n",
        "print(torch.__version__)\n",
        "\n",
        "# The PyG built-in GCNConv\n",
        "from torch_geometric.nn import GCNConv\n",
        "\n",
        "import torch_geometric.transforms as T\n",
        "from ogb.nodeproppred import PygNodePropPredDataset, Evaluator"
      ]
    },
    {
      "cell_type": "markdown",
      "metadata": {
        "id": "0IK9z0wQIwzQ"
      },
      "source": [
        "## Load and Preprocess the Dataset"
      ]
    },
    {
      "cell_type": "code",
      "execution_count": 10,
      "metadata": {
        "id": "0ibJ0ieoIwQM"
      },
      "outputs": [
        {
          "name": "stdout",
          "output_type": "stream",
          "text": [
            "Device: cuda\n"
          ]
        }
      ],
      "source": [
        "if 'IS_GRADESCOPE_ENV' not in os.environ:\n",
        "  dataset_name = 'ogbn-arxiv'\n",
        "  dataset = PygNodePropPredDataset(name=dataset_name,\n",
        "                                  transform=T.ToSparseTensor())\n",
        "  data = dataset[0]\n",
        "\n",
        "  # Make the adjacency matrix to symmetric\n",
        "  data.adj_t = data.adj_t.to_symmetric()\n",
        "\n",
        "  device = 'cuda' if torch.cuda.is_available() else 'cpu'\n",
        "\n",
        "  # If you use GPU, the device should be cuda\n",
        "  print('Device: {}'.format(device))\n",
        "\n",
        "  data = data.to(device)\n",
        "  split_idx = dataset.get_idx_split()\n",
        "  train_idx = split_idx['train'].to(device)"
      ]
    },
    {
      "cell_type": "markdown",
      "metadata": {
        "id": "OgUA815bNJ8w"
      },
      "source": [
        "## GCN Model\n",
        "\n",
        "Now we will implement our GCN model!\n",
        "\n",
        "Please follow the figure below to implement the `forward` function.\n",
        "\n",
        "\n",
        "![test](https://drive.google.com/uc?id=128AuYAXNXGg7PIhJJ7e420DoPWKb-RtL)"
      ]
    },
    {
      "cell_type": "code",
      "execution_count": 11,
      "metadata": {
        "id": "IgspXTYpNJLA"
      },
      "outputs": [],
      "source": [
        "class GCN(torch.nn.Module):\n",
        "    def __init__(self, input_dim, hidden_dim, output_dim, num_layers,\n",
        "                 dropout, return_embeds=False):\n",
        "        # TODO: Implement a function that initializes self.convs, \n",
        "        # self.bns, and self.softmax.\n",
        "\n",
        "        super(GCN, self).__init__()\n",
        "\n",
        "        # A list of GCNConv layers\n",
        "        self.convs = None\n",
        "\n",
        "        # A list of 1D batch normalization layers\n",
        "        self.bns = None\n",
        "\n",
        "        # The log softmax layer\n",
        "        self.softmax = None\n",
        "\n",
        "        ############# Your code here ############\n",
        "        ## Note:\n",
        "        ## 1. You should use torch.nn.ModuleList for self.convs and self.bns\n",
        "        ## 2. self.convs has num_layers GCNConv layers\n",
        "        ## 3. self.bns has num_layers - 1 BatchNorm1d layers\n",
        "        ## 4. You should use torch.nn.LogSoftmax for self.softmax\n",
        "        ## 5. The parameters you can set for GCNConv include 'in_channels' and \n",
        "        ## 'out_channels'. For more information please refer to the documentation:\n",
        "        ## https://pytorch-geometric.readthedocs.io/en/latest/modules/nn.html#torch_geometric.nn.conv.GCNConv\n",
        "        ## 6. The only parameter you need to set for BatchNorm1d is 'num_features'\n",
        "        ## For more information please refer to the documentation: \n",
        "        ## https://pytorch.org/docs/stable/generated/torch.nn.BatchNorm1d.html\n",
        "        ## (~10 lines of code)\n",
        "        self.convs = torch.nn.ModuleList([GCNConv(input_dim, hidden_dim)] \n",
        "                + [GCNConv(hidden_dim, hidden_dim) for _ in range(num_layers - 2)] \n",
        "                + [GCNConv(hidden_dim, output_dim)])\n",
        "        self.bns = torch.nn.ModuleList([torch.nn.BatchNorm1d(hidden_dim) for _ in range(num_layers - 1)])\n",
        "        self.softmax = torch.nn.LogSoftmax(dim=-1)\n",
        "\n",
        "        #########################################\n",
        "\n",
        "        # Probability of an element getting zeroed\n",
        "        self.dropout = dropout\n",
        "\n",
        "        # Skip classification layer and return node embeddings\n",
        "        self.return_embeds = return_embeds\n",
        "\n",
        "    def reset_parameters(self):\n",
        "        for conv in self.convs:\n",
        "            conv.reset_parameters()\n",
        "        for bn in self.bns:\n",
        "            bn.reset_parameters()\n",
        "\n",
        "    def forward(self, x, adj_t):\n",
        "        # TODO: Implement a function that takes the feature tensor x and\n",
        "        # edge_index tensor adj_t and returns the output tensor as\n",
        "        # shown in the figure.\n",
        "\n",
        "        out = None\n",
        "\n",
        "        ############# Your code here ############\n",
        "        ## Note:\n",
        "        ## 1. Construct the network as shown in the figure\n",
        "        ## 2. torch.nn.functional.relu and torch.nn.functional.dropout are useful\n",
        "        ## For more information please refer to the documentation:\n",
        "        ## https://pytorch.org/docs/stable/nn.functional.html\n",
        "        ## 3. Don't forget to set F.dropout training to self.training\n",
        "        ## 4. If return_embeds is True, then skip the last softmax layer\n",
        "        ## (~7 lines of code)\n",
        "        for i in range(len(self.convs)-1):\n",
        "            x = self.convs[i](x, adj_t)\n",
        "            x = self.bns[i](x)\n",
        "            x = F.relu(x)\n",
        "            x = F.dropout(x, p=self.dropout, training=self.training)\n",
        "\n",
        "        x = self.convs[-1](x, adj_t)\n",
        "        out = x if self.return_embeds else self.softmax(x)\n",
        "        #########################################\n",
        "\n",
        "        return out"
      ]
    },
    {
      "cell_type": "code",
      "execution_count": 12,
      "metadata": {
        "id": "FF1hnHUhO81e"
      },
      "outputs": [],
      "source": [
        "def train(model, data, train_idx, optimizer, loss_fn):\n",
        "    # TODO: Implement a function that trains the model by \n",
        "    # using the given optimizer and loss_fn.\n",
        "    model.train()\n",
        "    loss = 0\n",
        "\n",
        "    ############# Your code here ############\n",
        "    ## Note:\n",
        "    ## 1. Zero grad the optimizer\n",
        "    ## 2. Feed the data into the model\n",
        "    ## 3. Slice the model output and label by train_idx\n",
        "    ## 4. Feed the sliced output and label to loss_fn\n",
        "    ## (~4 lines of code)\n",
        "    optimizer.zero_grad()\n",
        "    out = model(data.x, data.adj_t)\n",
        "    label = data.y.squeeze(1)[train_idx]\n",
        "    loss = loss_fn(out[train_idx], label)   \n",
        "    #########################################\n",
        "\n",
        "    loss.backward()\n",
        "    optimizer.step()\n",
        "\n",
        "    return loss.item()"
      ]
    },
    {
      "cell_type": "code",
      "execution_count": 13,
      "metadata": {
        "id": "aJdlrJQhPBsK"
      },
      "outputs": [],
      "source": [
        "# Test function here\n",
        "@torch.no_grad()\n",
        "def test(model, data, split_idx, evaluator, save_model_results=False):\n",
        "    # TODO: Implement a function that tests the model by \n",
        "    # using the given split_idx and evaluator.\n",
        "    model.eval()\n",
        "\n",
        "    # The output of model on all data\n",
        "    out = None\n",
        "\n",
        "    ############# Your code here ############\n",
        "    ## (~1 line of code)\n",
        "    ## Note:\n",
        "    ## 1. No index slicing here\n",
        "    out = model(data.x, data.adj_t)\n",
        "    #########################################\n",
        "\n",
        "    y_pred = out.argmax(dim=-1, keepdim=True)\n",
        "\n",
        "    train_acc = evaluator.eval({\n",
        "        'y_true': data.y[split_idx['train']],\n",
        "        'y_pred': y_pred[split_idx['train']],\n",
        "    })['acc']\n",
        "    valid_acc = evaluator.eval({\n",
        "        'y_true': data.y[split_idx['valid']],\n",
        "        'y_pred': y_pred[split_idx['valid']],\n",
        "    })['acc']\n",
        "    test_acc = evaluator.eval({\n",
        "        'y_true': data.y[split_idx['test']],\n",
        "        'y_pred': y_pred[split_idx['test']],\n",
        "    })['acc']\n",
        "\n",
        "    if save_model_results:\n",
        "      print (\"Saving Model Predictions\")\n",
        "\n",
        "      data = {}\n",
        "      data['y_pred'] = y_pred.view(-1).cpu().detach().numpy()\n",
        "\n",
        "      df = pd.DataFrame(data=data)\n",
        "      # Save locally as csv\n",
        "      df.to_csv('ogbn-arxiv_node.csv', sep=',', index=False)\n",
        "\n",
        "\n",
        "    return train_acc, valid_acc, test_acc"
      ]
    },
    {
      "cell_type": "code",
      "execution_count": 14,
      "metadata": {
        "id": "o7F46xkuLiOL"
      },
      "outputs": [],
      "source": [
        "# Please do not change the args\n",
        "if 'IS_GRADESCOPE_ENV' not in os.environ:\n",
        "  args = {\n",
        "      'device': device,\n",
        "      'num_layers': 3,\n",
        "      'hidden_dim': 256,\n",
        "      'dropout': 0.5,\n",
        "      'lr': 0.01,\n",
        "      'epochs': 100,\n",
        "  }\n",
        "  args"
      ]
    },
    {
      "cell_type": "code",
      "execution_count": 15,
      "metadata": {
        "id": "dT8RyM2cPGxM"
      },
      "outputs": [],
      "source": [
        "if 'IS_GRADESCOPE_ENV' not in os.environ:\n",
        "  model = GCN(data.num_features, args['hidden_dim'],\n",
        "              dataset.num_classes, args['num_layers'],\n",
        "              args['dropout']).to(device)\n",
        "  evaluator = Evaluator(name='ogbn-arxiv')"
      ]
    },
    {
      "cell_type": "code",
      "execution_count": 16,
      "metadata": {
        "id": "qd5O5cnPPdVF"
      },
      "outputs": [
        {
          "name": "stdout",
          "output_type": "stream",
          "text": [
            "Epoch: 01, Loss: 4.3681, Train: 26.73%, Valid: 29.58% Test: 26.53%\n",
            "Epoch: 02, Loss: 2.3460, Train: 24.74%, Valid: 22.15% Test: 27.41%\n",
            "Epoch: 03, Loss: 1.9935, Train: 24.85%, Valid: 21.86% Test: 26.84%\n",
            "Epoch: 04, Loss: 1.7736, Train: 21.65%, Valid: 13.88% Test: 13.35%\n",
            "Epoch: 05, Loss: 1.6697, Train: 27.29%, Valid: 20.80% Test: 21.07%\n",
            "Epoch: 06, Loss: 1.5750, Train: 38.97%, Valid: 34.25% Test: 37.30%\n",
            "Epoch: 07, Loss: 1.4982, Train: 44.28%, Valid: 40.11% Test: 44.68%\n",
            "Epoch: 08, Loss: 1.4469, Train: 43.10%, Valid: 34.62% Test: 38.55%\n",
            "Epoch: 09, Loss: 1.4096, Train: 42.22%, Valid: 33.45% Test: 37.06%\n",
            "Epoch: 10, Loss: 1.3706, Train: 40.66%, Valid: 32.34% Test: 35.91%\n",
            "Epoch: 11, Loss: 1.3393, Train: 40.25%, Valid: 32.19% Test: 36.15%\n",
            "Epoch: 12, Loss: 1.3172, Train: 41.26%, Valid: 34.90% Test: 39.56%\n",
            "Epoch: 13, Loss: 1.2863, Train: 43.76%, Valid: 40.88% Test: 45.42%\n",
            "Epoch: 14, Loss: 1.2641, Train: 46.20%, Valid: 45.15% Test: 49.18%\n",
            "Epoch: 15, Loss: 1.2522, Train: 48.13%, Valid: 46.90% Test: 49.96%\n",
            "Epoch: 16, Loss: 1.2341, Train: 49.79%, Valid: 47.66% Test: 50.26%\n",
            "Epoch: 17, Loss: 1.2199, Train: 51.21%, Valid: 48.54% Test: 51.49%\n",
            "Epoch: 18, Loss: 1.2024, Train: 53.14%, Valid: 50.96% Test: 54.41%\n",
            "Epoch: 19, Loss: 1.1912, Train: 55.24%, Valid: 54.13% Test: 57.08%\n",
            "Epoch: 20, Loss: 1.1757, Train: 56.67%, Valid: 55.87% Test: 58.61%\n",
            "Epoch: 21, Loss: 1.1703, Train: 57.34%, Valid: 56.88% Test: 59.34%\n",
            "Epoch: 22, Loss: 1.1577, Train: 57.74%, Valid: 57.29% Test: 59.88%\n",
            "Epoch: 23, Loss: 1.1460, Train: 58.08%, Valid: 57.60% Test: 60.14%\n",
            "Epoch: 24, Loss: 1.1343, Train: 59.28%, Valid: 58.81% Test: 61.27%\n",
            "Epoch: 25, Loss: 1.1313, Train: 61.05%, Valid: 61.24% Test: 62.98%\n",
            "Epoch: 26, Loss: 1.1244, Train: 62.57%, Valid: 63.01% Test: 64.42%\n",
            "Epoch: 27, Loss: 1.1143, Train: 63.89%, Valid: 64.53% Test: 65.48%\n",
            "Epoch: 28, Loss: 1.1087, Train: 64.97%, Valid: 65.59% Test: 66.16%\n",
            "Epoch: 29, Loss: 1.1015, Train: 65.81%, Valid: 66.40% Test: 66.84%\n",
            "Epoch: 30, Loss: 1.0972, Train: 66.60%, Valid: 67.00% Test: 67.16%\n",
            "Epoch: 31, Loss: 1.0891, Train: 67.30%, Valid: 67.47% Test: 67.43%\n",
            "Epoch: 32, Loss: 1.0846, Train: 67.79%, Valid: 67.86% Test: 67.60%\n",
            "Epoch: 33, Loss: 1.0780, Train: 67.97%, Valid: 68.15% Test: 67.98%\n",
            "Epoch: 34, Loss: 1.0720, Train: 68.10%, Valid: 68.33% Test: 68.28%\n",
            "Epoch: 35, Loss: 1.0690, Train: 68.29%, Valid: 68.65% Test: 68.44%\n",
            "Epoch: 36, Loss: 1.0618, Train: 68.37%, Valid: 68.58% Test: 68.61%\n",
            "Epoch: 37, Loss: 1.0574, Train: 68.72%, Valid: 68.86% Test: 68.90%\n",
            "Epoch: 38, Loss: 1.0528, Train: 69.03%, Valid: 69.24% Test: 69.27%\n",
            "Epoch: 39, Loss: 1.0482, Train: 69.31%, Valid: 69.41% Test: 69.46%\n",
            "Epoch: 40, Loss: 1.0416, Train: 69.75%, Valid: 69.60% Test: 69.70%\n",
            "Epoch: 41, Loss: 1.0430, Train: 69.94%, Valid: 69.63% Test: 69.79%\n",
            "Epoch: 42, Loss: 1.0405, Train: 70.11%, Valid: 69.89% Test: 69.87%\n",
            "Epoch: 43, Loss: 1.0330, Train: 70.28%, Valid: 70.08% Test: 69.84%\n",
            "Epoch: 44, Loss: 1.0305, Train: 70.40%, Valid: 70.10% Test: 69.60%\n",
            "Epoch: 45, Loss: 1.0247, Train: 70.49%, Valid: 69.93% Test: 69.35%\n",
            "Epoch: 46, Loss: 1.0284, Train: 70.63%, Valid: 69.86% Test: 69.24%\n",
            "Epoch: 47, Loss: 1.0189, Train: 70.80%, Valid: 70.27% Test: 69.70%\n",
            "Epoch: 48, Loss: 1.0170, Train: 70.91%, Valid: 70.43% Test: 70.22%\n",
            "Epoch: 49, Loss: 1.0109, Train: 70.88%, Valid: 70.50% Test: 70.49%\n",
            "Epoch: 50, Loss: 1.0093, Train: 71.07%, Valid: 70.67% Test: 70.48%\n",
            "Epoch: 51, Loss: 1.0092, Train: 71.30%, Valid: 70.77% Test: 70.33%\n",
            "Epoch: 52, Loss: 1.0044, Train: 71.48%, Valid: 70.74% Test: 69.98%\n",
            "Epoch: 53, Loss: 1.0036, Train: 71.53%, Valid: 70.58% Test: 69.51%\n",
            "Epoch: 54, Loss: 0.9972, Train: 71.60%, Valid: 70.49% Test: 69.40%\n",
            "Epoch: 55, Loss: 0.9971, Train: 71.60%, Valid: 70.63% Test: 69.74%\n",
            "Epoch: 56, Loss: 0.9937, Train: 71.70%, Valid: 70.73% Test: 70.14%\n",
            "Epoch: 57, Loss: 0.9914, Train: 71.77%, Valid: 70.92% Test: 70.44%\n",
            "Epoch: 58, Loss: 0.9865, Train: 71.87%, Valid: 71.05% Test: 70.53%\n",
            "Epoch: 59, Loss: 0.9856, Train: 71.99%, Valid: 71.25% Test: 70.54%\n",
            "Epoch: 60, Loss: 0.9838, Train: 72.03%, Valid: 71.29% Test: 70.52%\n",
            "Epoch: 61, Loss: 0.9806, Train: 72.12%, Valid: 71.30% Test: 70.79%\n",
            "Epoch: 62, Loss: 0.9781, Train: 72.14%, Valid: 71.31% Test: 70.78%\n",
            "Epoch: 63, Loss: 0.9760, Train: 72.15%, Valid: 71.31% Test: 70.67%\n",
            "Epoch: 64, Loss: 0.9738, Train: 72.24%, Valid: 71.10% Test: 70.21%\n",
            "Epoch: 65, Loss: 0.9723, Train: 72.32%, Valid: 70.87% Test: 69.74%\n",
            "Epoch: 66, Loss: 0.9702, Train: 72.35%, Valid: 70.84% Test: 69.46%\n",
            "Epoch: 67, Loss: 0.9663, Train: 72.47%, Valid: 71.10% Test: 69.72%\n",
            "Epoch: 68, Loss: 0.9659, Train: 72.55%, Valid: 71.35% Test: 70.33%\n",
            "Epoch: 69, Loss: 0.9642, Train: 72.58%, Valid: 71.51% Test: 70.81%\n",
            "Epoch: 70, Loss: 0.9608, Train: 72.61%, Valid: 71.53% Test: 70.97%\n",
            "Epoch: 71, Loss: 0.9590, Train: 72.59%, Valid: 71.51% Test: 70.95%\n",
            "Epoch: 72, Loss: 0.9583, Train: 72.59%, Valid: 71.31% Test: 70.85%\n",
            "Epoch: 73, Loss: 0.9566, Train: 72.73%, Valid: 71.36% Test: 70.53%\n",
            "Epoch: 74, Loss: 0.9531, Train: 72.74%, Valid: 71.29% Test: 70.19%\n",
            "Epoch: 75, Loss: 0.9514, Train: 72.82%, Valid: 71.00% Test: 69.71%\n",
            "Epoch: 76, Loss: 0.9530, Train: 72.96%, Valid: 71.17% Test: 69.79%\n",
            "Epoch: 77, Loss: 0.9521, Train: 72.98%, Valid: 71.69% Test: 70.96%\n",
            "Epoch: 78, Loss: 0.9477, Train: 72.78%, Valid: 71.60% Test: 71.07%\n",
            "Epoch: 79, Loss: 0.9424, Train: 72.92%, Valid: 71.69% Test: 71.20%\n",
            "Epoch: 80, Loss: 0.9422, Train: 73.09%, Valid: 71.79% Test: 71.19%\n",
            "Epoch: 81, Loss: 0.9415, Train: 73.21%, Valid: 71.74% Test: 71.11%\n",
            "Epoch: 82, Loss: 0.9407, Train: 73.30%, Valid: 71.77% Test: 71.18%\n",
            "Epoch: 83, Loss: 0.9421, Train: 73.29%, Valid: 71.79% Test: 71.06%\n",
            "Epoch: 84, Loss: 0.9361, Train: 73.17%, Valid: 71.88% Test: 71.04%\n",
            "Epoch: 85, Loss: 0.9351, Train: 73.17%, Valid: 71.85% Test: 71.09%\n",
            "Epoch: 86, Loss: 0.9328, Train: 73.21%, Valid: 71.83% Test: 71.20%\n",
            "Epoch: 87, Loss: 0.9335, Train: 73.23%, Valid: 71.94% Test: 71.06%\n",
            "Epoch: 88, Loss: 0.9294, Train: 73.32%, Valid: 71.86% Test: 71.02%\n",
            "Epoch: 89, Loss: 0.9303, Train: 73.36%, Valid: 71.95% Test: 71.07%\n",
            "Epoch: 90, Loss: 0.9260, Train: 73.49%, Valid: 71.94% Test: 71.21%\n",
            "Epoch: 91, Loss: 0.9271, Train: 73.48%, Valid: 71.86% Test: 70.99%\n",
            "Epoch: 92, Loss: 0.9254, Train: 73.47%, Valid: 71.88% Test: 71.15%\n",
            "Epoch: 93, Loss: 0.9228, Train: 73.49%, Valid: 71.93% Test: 71.20%\n",
            "Epoch: 94, Loss: 0.9229, Train: 73.58%, Valid: 71.75% Test: 70.86%\n",
            "Epoch: 95, Loss: 0.9202, Train: 73.66%, Valid: 71.43% Test: 70.15%\n",
            "Epoch: 96, Loss: 0.9216, Train: 73.66%, Valid: 71.48% Test: 70.06%\n",
            "Epoch: 97, Loss: 0.9190, Train: 73.70%, Valid: 71.77% Test: 70.83%\n",
            "Epoch: 98, Loss: 0.9163, Train: 73.63%, Valid: 71.77% Test: 70.80%\n",
            "Epoch: 99, Loss: 0.9145, Train: 73.59%, Valid: 71.96% Test: 71.32%\n",
            "Epoch: 100, Loss: 0.9153, Train: 73.77%, Valid: 71.85% Test: 71.09%\n"
          ]
        }
      ],
      "source": [
        "# Please do not change these args\n",
        "# Training should take <10min using GPU runtime\n",
        "import copy\n",
        "if 'IS_GRADESCOPE_ENV' not in os.environ:\n",
        "  # reset the parameters to initial random value\n",
        "  model.reset_parameters()\n",
        "\n",
        "  optimizer = torch.optim.Adam(model.parameters(), lr=args['lr'])\n",
        "  loss_fn = F.nll_loss\n",
        "\n",
        "  best_model = None\n",
        "  best_valid_acc = 0\n",
        "\n",
        "  for epoch in range(1, 1 + args[\"epochs\"]):\n",
        "    loss = train(model, data, train_idx, optimizer, loss_fn)\n",
        "    result = test(model, data, split_idx, evaluator)\n",
        "    train_acc, valid_acc, test_acc = result\n",
        "    if valid_acc > best_valid_acc:\n",
        "        best_valid_acc = valid_acc\n",
        "        best_model = copy.deepcopy(model)\n",
        "    print(f'Epoch: {epoch:02d}, '\n",
        "          f'Loss: {loss:.4f}, '\n",
        "          f'Train: {100 * train_acc:.2f}%, '\n",
        "          f'Valid: {100 * valid_acc:.2f}% '\n",
        "          f'Test: {100 * test_acc:.2f}%')"
      ]
    },
    {
      "cell_type": "markdown",
      "metadata": {
        "id": "dQtt-EKA8P4r"
      },
      "source": [
        "## Question 5: What are your `best_model` validation and test accuracies?(20 points)\n",
        "\n",
        "Run the cell below to see the results of your best of model and save your model's predictions to a file named *ogbn-arxiv_node.csv*. \n",
        "\n",
        "You can view this file by clicking on the *Folder* icon on the left side pannel. As in Colab 1, when you sumbit your assignment, you will have to download this file and attatch it to your submission."
      ]
    },
    {
      "cell_type": "code",
      "execution_count": 17,
      "metadata": {
        "id": "EqcextqOL2FX"
      },
      "outputs": [
        {
          "name": "stdout",
          "output_type": "stream",
          "text": [
            "Saving Model Predictions\n",
            "Best model: Train: 73.59%, Valid: 71.96% Test: 71.32%\n"
          ]
        }
      ],
      "source": [
        "if 'IS_GRADESCOPE_ENV' not in os.environ:\n",
        "  best_result = test(best_model, data, split_idx, evaluator, save_model_results=True)\n",
        "  train_acc, valid_acc, test_acc = best_result\n",
        "  print(f'Best model: '\n",
        "        f'Train: {100 * train_acc:.2f}%, '\n",
        "        f'Valid: {100 * valid_acc:.2f}% '\n",
        "        f'Test: {100 * test_acc:.2f}%')"
      ]
    },
    {
      "cell_type": "markdown",
      "metadata": {
        "id": "R8pOD6y80TyI"
      },
      "source": [
        "# 4) GNN: Graph Property Prediction\n",
        "\n",
        "In this section we will create a graph neural network for graph property prediction (graph classification).\n"
      ]
    },
    {
      "cell_type": "markdown",
      "metadata": {
        "id": "vRg5VOEdQTa4"
      },
      "source": [
        "## Load and preprocess the dataset"
      ]
    },
    {
      "cell_type": "code",
      "execution_count": 18,
      "metadata": {
        "id": "LXb-O5QUIgTH"
      },
      "outputs": [
        {
          "name": "stdout",
          "output_type": "stream",
          "text": [
            "Device: cuda\n",
            "Task type: binary classification\n"
          ]
        }
      ],
      "source": [
        "from ogb.graphproppred import PygGraphPropPredDataset, Evaluator\n",
        "from torch_geometric.data import DataLoader\n",
        "from tqdm.notebook import tqdm\n",
        "\n",
        "if 'IS_GRADESCOPE_ENV' not in os.environ:\n",
        "  # Load the dataset \n",
        "  dataset = PygGraphPropPredDataset(name='ogbg-molhiv')\n",
        "\n",
        "  device = 'cuda' if torch.cuda.is_available() else 'cpu'\n",
        "  print('Device: {}'.format(device))\n",
        "\n",
        "  split_idx = dataset.get_idx_split()\n",
        "\n",
        "  # Check task type\n",
        "  print('Task type: {}'.format(dataset.task_type))"
      ]
    },
    {
      "cell_type": "code",
      "execution_count": 19,
      "metadata": {
        "id": "7cHHbgW1c5hi"
      },
      "outputs": [
        {
          "name": "stderr",
          "output_type": "stream",
          "text": [
            "/home/ming/cs224w/.venv/lib/python3.8/site-packages/torch_geometric/deprecation.py:12: UserWarning: 'data.DataLoader' is deprecated, use 'loader.DataLoader' instead\n",
            "  warnings.warn(out)\n"
          ]
        }
      ],
      "source": [
        "# Load the dataset splits into corresponding dataloaders\n",
        "# We will train the graph classification task on a batch of 32 graphs\n",
        "# Shuffle the order of graphs for training set\n",
        "if 'IS_GRADESCOPE_ENV' not in os.environ:\n",
        "  train_loader = DataLoader(dataset[split_idx[\"train\"]], batch_size=32, shuffle=True, num_workers=0)\n",
        "  valid_loader = DataLoader(dataset[split_idx[\"valid\"]], batch_size=32, shuffle=False, num_workers=0)\n",
        "  test_loader = DataLoader(dataset[split_idx[\"test\"]], batch_size=32, shuffle=False, num_workers=0)"
      ]
    },
    {
      "cell_type": "code",
      "execution_count": 20,
      "metadata": {
        "id": "AYrSnOj0Y4DK"
      },
      "outputs": [],
      "source": [
        "if 'IS_GRADESCOPE_ENV' not in os.environ:\n",
        "  # Please do not change the args\n",
        "  args = {\n",
        "      'device': device,\n",
        "      'num_layers': 5,\n",
        "      'hidden_dim': 256,\n",
        "      'dropout': 0.5,\n",
        "      'lr': 0.001,\n",
        "      'epochs': 30,\n",
        "  }\n",
        "  args"
      ]
    },
    {
      "cell_type": "markdown",
      "metadata": {
        "id": "7WLhguSTeazy"
      },
      "source": [
        "## Graph Prediction Model"
      ]
    },
    {
      "cell_type": "markdown",
      "metadata": {
        "id": "u05Z14TRYPGn"
      },
      "source": [
        "### Graph Mini-Batching\n",
        "Before diving into the actual model, we introduce the concept of mini-batching with graphs. In order to parallelize the processing of a mini-batch of graphs, PyG combines the graphs into a single disconnected graph data object (*torch_geometric.data.Batch*). *torch_geometric.data.Batch* inherits from *torch_geometric.data.Data* (introduced earlier) and contains an additional attribute called `batch`. \n",
        "\n",
        "The `batch` attribute is a vector mapping each node to the index of its corresponding graph within the mini-batch:\n",
        "\n",
        "    batch = [0, ..., 0, 1, ..., n - 2, n - 1, ..., n - 1]\n",
        "\n",
        "This attribute is crucial for associating which graph each node belongs to and can be used to e.g. average the node embeddings for each graph individually to compute graph level embeddings. \n",
        "\n"
      ]
    },
    {
      "cell_type": "markdown",
      "metadata": {
        "id": "Pcic9NNU3nGK"
      },
      "source": [
        "### Implemention\n",
        "Now, we have all of the tools to implement a GCN Graph Prediction model!  \n",
        "\n",
        "We will reuse the existing GCN model to generate `node_embeddings` and then use  `Global Pooling` over the nodes to create graph level embeddings that can be used to predict properties for the each graph. Remeber that the `batch` attribute will be essential for performining Global Pooling over our mini-batch of graphs."
      ]
    },
    {
      "cell_type": "code",
      "execution_count": 21,
      "metadata": {
        "id": "3_Kq3zyjeZ22"
      },
      "outputs": [],
      "source": [
        "from ogb.graphproppred.mol_encoder import AtomEncoder\n",
        "from torch_geometric.nn import global_add_pool, global_mean_pool\n",
        "\n",
        "### GCN to predict graph property\n",
        "class GCN_Graph(torch.nn.Module):\n",
        "    def __init__(self, hidden_dim, output_dim, num_layers, dropout):\n",
        "        super(GCN_Graph, self).__init__()\n",
        "\n",
        "        # Load encoders for Atoms in molecule graphs\n",
        "        self.node_encoder = AtomEncoder(hidden_dim)\n",
        "\n",
        "        # Node embedding model\n",
        "        # Note that the input_dim and output_dim are set to hidden_dim\n",
        "        self.gnn_node = GCN(hidden_dim, hidden_dim,\n",
        "            hidden_dim, num_layers, dropout, return_embeds=True)\n",
        "\n",
        "        self.pool = None\n",
        "\n",
        "        ############# Your code here ############\n",
        "        ## Note:\n",
        "        ## 1. Initialize self.pool as a global mean pooling layer\n",
        "        ## For more information please refer to the documentation:\n",
        "        ## https://pytorch-geometric.readthedocs.io/en/latest/modules/nn.html#global-pooling-layers\n",
        "\n",
        "        self.pool = global_mean_pool\n",
        "\n",
        "        #########################################\n",
        "\n",
        "        # Output layer\n",
        "        self.linear = torch.nn.Linear(hidden_dim, output_dim)\n",
        "\n",
        "\n",
        "    def reset_parameters(self):\n",
        "      self.gnn_node.reset_parameters()\n",
        "      self.linear.reset_parameters()\n",
        "\n",
        "    def forward(self, batched_data):\n",
        "        # TODO: Implement a function that takes as input a \n",
        "        # mini-batch of graphs (torch_geometric.data.Batch) and \n",
        "        # returns the predicted graph property for each graph. \n",
        "        #\n",
        "        # NOTE: Since we are predicting graph level properties,\n",
        "        # your output will be a tensor with dimension equaling\n",
        "        # the number of graphs in the mini-batch\n",
        "\n",
        "    \n",
        "        # Extract important attributes of our mini-batch\n",
        "        x, edge_index, batch = batched_data.x, batched_data.edge_index, batched_data.batch\n",
        "        embed = self.node_encoder(x)\n",
        "\n",
        "        out = None\n",
        "\n",
        "        ############# Your code here ############\n",
        "        ## Note:\n",
        "        ## 1. Construct node embeddings using existing GCN model\n",
        "        ## 2. Use the global pooling layer to aggregate features for each individual graph\n",
        "        ## For more information please refer to the documentation:\n",
        "        ## https://pytorch-geometric.readthedocs.io/en/latest/modules/nn.html#global-pooling-layers\n",
        "        ## 3. Use a linear layer to predict each graph's property\n",
        "        ## (~3 lines of code)\n",
        "        out = self.gnn_node(embed, edge_index)\n",
        "        out = self.pool(out, batch)\n",
        "        out = self.linear(out)\n",
        "        #########################################\n",
        "\n",
        "        return out"
      ]
    },
    {
      "cell_type": "code",
      "execution_count": 22,
      "metadata": {
        "id": "FJjnGuMSbjX0"
      },
      "outputs": [],
      "source": [
        "def train(model, device, data_loader, optimizer, loss_fn):\n",
        "    # TODO: Implement a function that trains your model by \n",
        "    # using the given optimizer and loss_fn.\n",
        "    model.train()\n",
        "    loss = 0\n",
        "\n",
        "    # for step, batch in enumerate(tqdm(data_loader, desc=\"Iteration\")):\n",
        "    for step, batch in enumerate(data_loader):\n",
        "      batch = batch.to(device)\n",
        "\n",
        "      if batch.x.shape[0] == 1 or batch.batch[-1] == 0:\n",
        "          pass\n",
        "      else:\n",
        "        ## ignore nan targets (unlabeled) when computing training loss.\n",
        "        is_labeled = batch.y == batch.y\n",
        "\n",
        "        ############# Your code here ############\n",
        "        ## Note:\n",
        "        ## 1. Zero grad the optimizer\n",
        "        ## 2. Feed the data into the model\n",
        "        ## 3. Use `is_labeled` mask to filter output and labels\n",
        "        ## 4. You may need to change the type of label to torch.float32\n",
        "        ## 5. Feed the output and label to the loss_fn\n",
        "        ## (~3 lines of code)\n",
        "\n",
        "        optimizer.zero_grad()\n",
        "        out = model(batch)\n",
        "        out = out[is_labeled]\n",
        "        label = batch.y[is_labeled].type(torch.float32)\n",
        "        loss = loss_fn(out, label)\n",
        "        #########################################\n",
        "\n",
        "        loss.backward()\n",
        "        optimizer.step()\n",
        "\n",
        "    return loss.item()"
      ]
    },
    {
      "cell_type": "code",
      "execution_count": 23,
      "metadata": {
        "id": "ztPHXq_Gzn7U"
      },
      "outputs": [],
      "source": [
        "# The evaluation function\n",
        "def eval(model, device, loader, evaluator, save_model_results=False, save_file=None):\n",
        "    model.eval()\n",
        "    y_true = []\n",
        "    y_pred = []\n",
        "\n",
        "    # for step, batch in enumerate(tqdm(loader, desc=\"Iteration\")):\n",
        "    for step, batch in enumerate(loader):\n",
        "        batch = batch.to(device)\n",
        "\n",
        "        if batch.x.shape[0] == 1:\n",
        "            pass\n",
        "        else:\n",
        "            with torch.no_grad():\n",
        "                pred = model(batch)\n",
        "\n",
        "            y_true.append(batch.y.view(pred.shape).detach().cpu())\n",
        "            y_pred.append(pred.detach().cpu())\n",
        "\n",
        "    y_true = torch.cat(y_true, dim = 0).numpy()\n",
        "    y_pred = torch.cat(y_pred, dim = 0).numpy()\n",
        "\n",
        "    input_dict = {\"y_true\": y_true, \"y_pred\": y_pred}\n",
        "\n",
        "    if save_model_results:\n",
        "        print (\"Saving Model Predictions\")\n",
        "        \n",
        "        # Create a pandas dataframe with a two columns\n",
        "        # y_pred | y_true\n",
        "        data = {}\n",
        "        data['y_pred'] = y_pred.reshape(-1)\n",
        "        data['y_true'] = y_true.reshape(-1)\n",
        "\n",
        "        df = pd.DataFrame(data=data)\n",
        "        # Save to csv\n",
        "        df.to_csv('ogbg-molhiv_graph_' + save_file + '.csv', sep=',', index=False)\n",
        "\n",
        "    return evaluator.eval(input_dict)"
      ]
    },
    {
      "cell_type": "code",
      "execution_count": 24,
      "metadata": {
        "id": "MR1wQ4hMZeMw"
      },
      "outputs": [],
      "source": [
        "if 'IS_GRADESCOPE_ENV' not in os.environ:\n",
        "  model = GCN_Graph(args['hidden_dim'],\n",
        "              dataset.num_tasks, args['num_layers'],\n",
        "              args['dropout']).to(device)\n",
        "  evaluator = Evaluator(name='ogbg-molhiv')"
      ]
    },
    {
      "cell_type": "code",
      "execution_count": 25,
      "metadata": {
        "id": "qJGTNZiuZy0A"
      },
      "outputs": [
        {
          "name": "stdout",
          "output_type": "stream",
          "text": [
            "Training...\n",
            "Evaluating...\n",
            "Epoch: 01, Loss: 1.2169, Train: 72.80%, Valid: 66.59% Test: 68.48%\n",
            "Training...\n",
            "Evaluating...\n",
            "Epoch: 02, Loss: 0.3522, Train: 75.01%, Valid: 73.39% Test: 71.77%\n",
            "Training...\n",
            "Evaluating...\n",
            "Epoch: 03, Loss: 0.0426, Train: 77.05%, Valid: 72.99% Test: 73.01%\n",
            "Training...\n",
            "Evaluating...\n",
            "Epoch: 04, Loss: 0.0444, Train: 76.13%, Valid: 75.56% Test: 69.18%\n",
            "Training...\n",
            "Evaluating...\n",
            "Epoch: 05, Loss: 0.0308, Train: 78.06%, Valid: 75.21% Test: 72.81%\n",
            "Training...\n",
            "Evaluating...\n",
            "Epoch: 06, Loss: 0.0455, Train: 77.43%, Valid: 74.26% Test: 71.07%\n",
            "Training...\n",
            "Evaluating...\n",
            "Epoch: 07, Loss: 0.4143, Train: 76.94%, Valid: 74.60% Test: 70.50%\n",
            "Training...\n",
            "Evaluating...\n",
            "Epoch: 08, Loss: 0.0234, Train: 78.26%, Valid: 78.77% Test: 69.97%\n",
            "Training...\n",
            "Evaluating...\n",
            "Epoch: 09, Loss: 0.2972, Train: 79.81%, Valid: 75.53% Test: 70.52%\n",
            "Training...\n",
            "Evaluating...\n",
            "Epoch: 10, Loss: 0.0326, Train: 79.39%, Valid: 77.11% Test: 69.46%\n",
            "Training...\n",
            "Evaluating...\n",
            "Epoch: 11, Loss: 0.0302, Train: 80.40%, Valid: 77.26% Test: 71.91%\n",
            "Training...\n",
            "Evaluating...\n",
            "Epoch: 12, Loss: 0.0367, Train: 80.05%, Valid: 69.96% Test: 71.42%\n",
            "Training...\n",
            "Evaluating...\n",
            "Epoch: 13, Loss: 0.0411, Train: 80.94%, Valid: 78.61% Test: 72.06%\n",
            "Training...\n",
            "Evaluating...\n",
            "Epoch: 14, Loss: 0.0469, Train: 81.36%, Valid: 76.17% Test: 72.47%\n",
            "Training...\n",
            "Evaluating...\n",
            "Epoch: 15, Loss: 0.0181, Train: 82.27%, Valid: 78.47% Test: 73.56%\n",
            "Training...\n",
            "Evaluating...\n",
            "Epoch: 16, Loss: 0.0503, Train: 82.56%, Valid: 76.88% Test: 73.46%\n",
            "Training...\n",
            "Evaluating...\n",
            "Epoch: 17, Loss: 0.0217, Train: 82.13%, Valid: 77.89% Test: 72.63%\n",
            "Training...\n",
            "Evaluating...\n",
            "Epoch: 18, Loss: 0.5358, Train: 82.44%, Valid: 79.62% Test: 74.24%\n",
            "Training...\n",
            "Evaluating...\n",
            "Epoch: 19, Loss: 0.3384, Train: 82.43%, Valid: 79.73% Test: 72.98%\n",
            "Training...\n",
            "Evaluating...\n",
            "Epoch: 20, Loss: 0.0393, Train: 82.29%, Valid: 75.77% Test: 73.84%\n",
            "Training...\n",
            "Evaluating...\n",
            "Epoch: 21, Loss: 0.0250, Train: 82.21%, Valid: 79.99% Test: 71.47%\n",
            "Training...\n",
            "Evaluating...\n",
            "Epoch: 22, Loss: 0.0355, Train: 82.58%, Valid: 77.88% Test: 73.66%\n",
            "Training...\n",
            "Evaluating...\n",
            "Epoch: 23, Loss: 0.0215, Train: 82.38%, Valid: 76.41% Test: 74.44%\n",
            "Training...\n",
            "Evaluating...\n",
            "Epoch: 24, Loss: 0.4695, Train: 83.27%, Valid: 76.97% Test: 75.44%\n",
            "Training...\n",
            "Evaluating...\n",
            "Epoch: 25, Loss: 0.0547, Train: 83.21%, Valid: 82.05% Test: 73.55%\n",
            "Training...\n",
            "Evaluating...\n",
            "Epoch: 26, Loss: 0.8072, Train: 83.02%, Valid: 77.10% Test: 74.59%\n",
            "Training...\n",
            "Evaluating...\n",
            "Epoch: 27, Loss: 0.0236, Train: 83.45%, Valid: 78.06% Test: 74.06%\n",
            "Training...\n",
            "Evaluating...\n",
            "Epoch: 28, Loss: 0.0200, Train: 84.03%, Valid: 79.21% Test: 74.44%\n",
            "Training...\n",
            "Evaluating...\n",
            "Epoch: 29, Loss: 0.0224, Train: 84.34%, Valid: 80.10% Test: 73.26%\n",
            "Training...\n",
            "Evaluating...\n",
            "Epoch: 30, Loss: 0.3955, Train: 84.83%, Valid: 79.57% Test: 74.73%\n"
          ]
        }
      ],
      "source": [
        "# Please do not change these args\n",
        "# Training should take <10min using GPU runtime\n",
        "import copy\n",
        "\n",
        "if 'IS_GRADESCOPE_ENV' not in os.environ:\n",
        "  model.reset_parameters()\n",
        "\n",
        "  optimizer = torch.optim.Adam(model.parameters(), lr=args['lr'])\n",
        "  loss_fn = torch.nn.BCEWithLogitsLoss()\n",
        "\n",
        "  best_model = None\n",
        "  best_valid_acc = 0\n",
        "\n",
        "  for epoch in range(1, 1 + args[\"epochs\"]):\n",
        "    print('Training...')\n",
        "    loss = train(model, device, train_loader, optimizer, loss_fn)\n",
        "\n",
        "    print('Evaluating...')\n",
        "    train_result = eval(model, device, train_loader, evaluator)\n",
        "    val_result = eval(model, device, valid_loader, evaluator)\n",
        "    test_result = eval(model, device, test_loader, evaluator)\n",
        "\n",
        "    train_acc, valid_acc, test_acc = train_result[dataset.eval_metric], val_result[dataset.eval_metric], test_result[dataset.eval_metric]\n",
        "    if valid_acc > best_valid_acc:\n",
        "        best_valid_acc = valid_acc\n",
        "        best_model = copy.deepcopy(model)\n",
        "    print(f'Epoch: {epoch:02d}, '\n",
        "          f'Loss: {loss:.4f}, '\n",
        "          f'Train: {100 * train_acc:.2f}%, '\n",
        "          f'Valid: {100 * valid_acc:.2f}% '\n",
        "          f'Test: {100 * test_acc:.2f}%')"
      ]
    },
    {
      "cell_type": "markdown",
      "metadata": {
        "id": "6I17-Qso_n88"
      },
      "source": [
        "## Question 6: What are your `best_model` validation and test ROC-AUC scores? (20 points)\n",
        "\n",
        "Run the cell below to see the results of your best of model and save your model's predictions over the validation and test datasets. The resulting files are named *ogbn-arxiv_graph_valid.csv* and *ogbn-arxiv_graph_test.csv*. \n",
        "\n",
        "Again, you can view these files by clicking on the *Folder* icon on the left side pannel. As in Colab 1, when you sumbit your assignment, you will have to download these files and attatch them to your submission."
      ]
    },
    {
      "cell_type": "code",
      "execution_count": 26,
      "metadata": {
        "id": "Oq5QaG21dOOO"
      },
      "outputs": [
        {
          "name": "stdout",
          "output_type": "stream",
          "text": [
            "Saving Model Predictions\n",
            "Saving Model Predictions\n",
            "Best model: Train: 83.21%, Valid: 82.05% Test: 73.55%\n"
          ]
        }
      ],
      "source": [
        "if 'IS_GRADESCOPE_ENV' not in os.environ:\n",
        "  train_acc = eval(best_model, device, train_loader, evaluator)[dataset.eval_metric]\n",
        "  valid_acc = eval(best_model, device, valid_loader, evaluator, save_model_results=True, save_file=\"valid\")[dataset.eval_metric]\n",
        "  test_acc  = eval(best_model, device, test_loader, evaluator, save_model_results=True, save_file=\"test\")[dataset.eval_metric]\n",
        "\n",
        "  print(f'Best model: '\n",
        "      f'Train: {100 * train_acc:.2f}%, '\n",
        "      f'Valid: {100 * valid_acc:.2f}% '\n",
        "      f'Test: {100 * test_acc:.2f}%')"
      ]
    },
    {
      "cell_type": "markdown",
      "metadata": {
        "id": "gBi_t8n0iZ4P"
      },
      "source": [
        "## Question 7 (Optional): Experiment with the two other global pooling layers in Pytorch Geometric."
      ]
    },
    {
      "cell_type": "code",
      "execution_count": null,
      "metadata": {},
      "outputs": [
        {
          "name": "stdout",
          "output_type": "stream",
          "text": [
            "Saving Model Predictions\n",
            "Saving Model Predictions\n",
            "Best model: Train: 78.67%, Valid: 78.55% Test: 74.44%\n"
          ]
        }
      ],
      "source": [
        "######### global_add_pool #########\n",
        "if 'IS_GRADESCOPE_ENV' not in os.environ:\n",
        "  train_acc = eval(best_model, device, train_loader, evaluator)[dataset.eval_metric]\n",
        "  valid_acc = eval(best_model, device, valid_loader, evaluator, save_model_results=True, save_file=\"valid\")[dataset.eval_metric]\n",
        "  test_acc  = eval(best_model, device, test_loader, evaluator, save_model_results=True, save_file=\"test\")[dataset.eval_metric]\n",
        "\n",
        "  print(f'Best model: '\n",
        "      f'Train: {100 * train_acc:.2f}%, '\n",
        "      f'Valid: {100 * valid_acc:.2f}% '\n",
        "      f'Test: {100 * test_acc:.2f}%')"
      ]
    },
    {
      "cell_type": "markdown",
      "metadata": {
        "id": "e7JXsMTBgeOI"
      },
      "source": [
        "# Submission\n",
        "\n",
        "To submit Colab 2, please submit to the following assignments on Gradescope:\n",
        "\n",
        "1. \"Colab 2\": submit your answers to the questions in this assignment\n",
        "2. \"Colab 2 Code\": submit your completed *CS224W_Colab2.ipynb*. From the \"File\" menu select \"Download .ipynb\" to save a local copy of your completed Colab. **PLEASE DO NOT CHANGE THE NAME!** The autograder depends on the .ipynb file being called \"CS224W_Colab2.ipynb\"."
      ]
    },
    {
      "cell_type": "code",
      "execution_count": null,
      "metadata": {
        "id": "L3Q5WmndEnAJ"
      },
      "outputs": [],
      "source": []
    }
  ],
  "metadata": {
    "accelerator": "GPU",
    "colab": {
      "machine_shape": "hm",
      "provenance": []
    },
    "kernelspec": {
      "display_name": ".venv",
      "language": "python",
      "name": "python3"
    },
    "language_info": {
      "codemirror_mode": {
        "name": "ipython",
        "version": 3
      },
      "file_extension": ".py",
      "mimetype": "text/x-python",
      "name": "python",
      "nbconvert_exporter": "python",
      "pygments_lexer": "ipython3",
      "version": "3.8.10 (default, Nov 14 2022, 12:59:47) \n[GCC 9.4.0]"
    },
    "vscode": {
      "interpreter": {
        "hash": "a247234d3fc5c9ff6a63138b98e3e3b852fda0e5936d0ab644270268638ffa1d"
      }
    }
  },
  "nbformat": 4,
  "nbformat_minor": 0
}
